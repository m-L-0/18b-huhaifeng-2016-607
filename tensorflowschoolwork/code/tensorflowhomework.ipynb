{
 "cells": [
  {
   "cell_type": "code",
   "execution_count": 2,
   "metadata": {},
   "outputs": [],
   "source": [
    "#姓名：胡海锋\n",
    "#学号：2016011607\n",
    "#学院：软件学院\n",
    "#专业：软件工程\n",
    "#实训作业一：TensorFlow Schoolwork\n",
    "import tensorflow as tf\n",
    "import numpy as np\n",
    "from sklearn.datasets import load_iris\n",
    "from sklearn.model_selection import train_test_split\n",
    "#导入数据集与工作包"
   ]
  },
  {
   "cell_type": "code",
   "execution_count": 4,
   "metadata": {},
   "outputs": [],
   "source": [
    "#导入测试集与训练集\n",
    "iris = load_iris()\n",
    "irisdata = iris.data\n",
    "irislabel = iris.target\n",
    "irisfeature_name = iris.feature_name\n"
   ]
  },
  {
   "cell_type": "code",
   "execution_count": 6,
   "metadata": {},
   "outputs": [],
   "source": [
    "#将测试集与训练集按照1:4分类\n",
    "Xtrain= train_test_split(iris_data,iris_label,test_size=0.2,shuffle=True,random_state = 5)\n",
    "Xtest = train_test_split(iris_data,iris_label,test_size=0.2,shuffle=True,random_state = 5)\n",
    "Ytrain = train_test_split(iris_data,iris_label,test_size=0.2,shuffle=True,random_state = 5)\n",
    "Ytest = train_test_split(iris_data,iris_label,test_size=0.2,shuffle=True,random_state = 5)"
   ]
  },
  {
   "cell_type": "code",
   "execution_count": 7,
   "metadata": {},
   "outputs": [],
   "source": [
    "#计算欧式距离\n",
    "distance = tf.reduce_sum(tf.abs(tf.add(train,tf.negative(test))),reduction_indices=1)\n",
    "\n",
    "train = tf.placeholder(tf.float32,shape=[None,4])\n",
    "test = tf.placeholder(tf.float32,shape=[4])\n",
    "#定义一个函数 用knn算法预测测试集的类别\n",
    "def train(K):\n",
    "    with tf.Session() as sess:        \n",
    "        pred = []\n",
    "        for i in range(len(Xtest)):\n",
    "            dist = sess.run(distance,feed_dict={train:Xtrain,test:Xtest[i]})\n",
    "            idx = np.argsort(dist)[:K]\n",
    "            classes = [0,0,0]\n",
    "            for i in idx:\n",
    "                if(Ytrain[i]==0):\n",
    "                    classes[0]=classes[0]+1\n",
    "                elif(Ytrain[i]==1):\n",
    "                    classes[1] = classes[1]+1\n",
    "                else:\n",
    "                    classes[2]=classes[2]+1\n",
    "            ypred = np.argmax(classes)\n",
    "            pred.append(ypred)\n",
    "        return pred\n",
    "#定义一个计算错误率的函数\n",
    "def a(k):\n",
    "    ypred = train(k)\n",
    "    ytrue = Ytest\n",
    "    a= 1-np.sum(np.equal(ypred,ytrue))/len(ytrue)\n",
    "    return a\n",
    "#计算错误率\n",
    "for i in range(31):\n",
    "    print(a(i))\n",
    "#选择错误率最小的即可"
   ]
  },
  {
   "cell_type": "code",
   "execution_count": null,
   "metadata": {},
   "outputs": [],
   "source": []
  }
 ],
 "metadata": {
  "kernelspec": {
   "display_name": "Python 3",
   "language": "python",
   "name": "python3"
  },
  "language_info": {
   "codemirror_mode": {
    "name": "ipython",
    "version": 3
   },
   "file_extension": ".py",
   "mimetype": "text/x-python",
   "name": "python",
   "nbconvert_exporter": "python",
   "pygments_lexer": "ipython3",
   "version": "3.6.5"
  }
 },
 "nbformat": 4,
 "nbformat_minor": 2
}
